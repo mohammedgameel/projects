{
  "nbformat": 4,
  "nbformat_minor": 0,
  "metadata": {
    "kernelspec": {
      "display_name": "Python 3",
      "language": "python",
      "name": "python3"
    },
    "language_info": {
      "codemirror_mode": {
        "name": "ipython",
        "version": 3
      },
      "file_extension": ".py",
      "mimetype": "text/x-python",
      "name": "python",
      "nbconvert_exporter": "python",
      "pygments_lexer": "ipython3",
      "version": "3.8.3"
    },
    "colab": {
      "provenance": []
    }
  },
  "cells": [
    {
      "cell_type": "code",
      "metadata": {
        "id": "GsMgoJ4GOLSH",
        "colab": {
          "base_uri": "https://localhost:8080/",
          "height": 274
        },
        "outputId": "adbb21e8-210e-4eeb-b324-868bd9df423f"
      },
      "source": [
        "! pip install pmdarima"
      ],
      "execution_count": null,
      "outputs": [
        {
          "output_type": "stream",
          "text": [
            "Requirement already satisfied: pmdarima in /usr/local/lib/python3.6/dist-packages (1.7.1)\n",
            "Requirement already satisfied: scipy>=1.3.2 in /usr/local/lib/python3.6/dist-packages (from pmdarima) (1.4.1)\n",
            "Requirement already satisfied: numpy>=1.17.3 in /usr/local/lib/python3.6/dist-packages (from pmdarima) (1.18.5)\n",
            "Requirement already satisfied: Cython<0.29.18,>=0.29 in /usr/local/lib/python3.6/dist-packages (from pmdarima) (0.29.17)\n",
            "Requirement already satisfied: statsmodels<0.12,>=0.11 in /usr/local/lib/python3.6/dist-packages (from pmdarima) (0.11.1)\n",
            "Requirement already satisfied: pandas>=0.19 in /usr/local/lib/python3.6/dist-packages (from pmdarima) (1.0.5)\n",
            "Requirement already satisfied: scikit-learn>=0.22 in /usr/local/lib/python3.6/dist-packages (from pmdarima) (0.22.2.post1)\n",
            "Requirement already satisfied: setuptools<50.0.0 in /usr/local/lib/python3.6/dist-packages (from pmdarima) (49.6.0)\n",
            "Requirement already satisfied: urllib3 in /usr/local/lib/python3.6/dist-packages (from pmdarima) (1.24.3)\n",
            "Requirement already satisfied: joblib>=0.11 in /usr/local/lib/python3.6/dist-packages (from pmdarima) (0.16.0)\n",
            "Requirement already satisfied: patsy>=0.5 in /usr/local/lib/python3.6/dist-packages (from statsmodels<0.12,>=0.11->pmdarima) (0.5.1)\n",
            "Requirement already satisfied: pytz>=2017.2 in /usr/local/lib/python3.6/dist-packages (from pandas>=0.19->pmdarima) (2018.9)\n",
            "Requirement already satisfied: python-dateutil>=2.6.1 in /usr/local/lib/python3.6/dist-packages (from pandas>=0.19->pmdarima) (2.8.1)\n",
            "Requirement already satisfied: six in /usr/local/lib/python3.6/dist-packages (from patsy>=0.5->statsmodels<0.12,>=0.11->pmdarima) (1.15.0)\n"
          ],
          "name": "stdout"
        }
      ]
    },
    {
      "cell_type": "code",
      "metadata": {
        "id": "gHyxHY8LOI14"
      },
      "source": [
        "import numpy as np # linear algebra\n",
        "import pandas as pd # data processing, CSV file I/O (e.g. pd.read_csv)\n",
        "import matplotlib.pyplot as plt\n",
        "import seaborn as sns\n",
        "%matplotlib inline"
      ],
      "execution_count": null,
      "outputs": []
    },
    {
      "cell_type": "code",
      "metadata": {
        "id": "j0ccUBNyOI2R"
      },
      "source": [
        "#load data\n",
        "df = pd.read_csv(\"/traffic forecast.csv\")"
      ],
      "execution_count": null,
      "outputs": []
    },
    {
      "cell_type": "code",
      "metadata": {
        "id": "fInMxVx0OI2n",
        "colab": {
          "base_uri": "https://localhost:8080/",
          "height": 678
        },
        "outputId": "4bf23172-a1ea-4b61-c409-572260f44047"
      },
      "source": [
        "df.info()"
      ],
      "execution_count": null,
      "outputs": [
        {
          "output_type": "stream",
          "text": [
            "<class 'pandas.core.frame.DataFrame'>\n",
            "RangeIndex: 60168 entries, 0 to 60167\n",
            "Data columns (total 29 columns):\n",
            " #   Column                 Non-Null Count  Dtype  \n",
            "---  ------                 --------------  -----  \n",
            " 0   date                   60168 non-null  object \n",
            " 1   road_name              60168 non-null  object \n",
            " 2   location               60168 non-null  object \n",
            " 3   suburb                 60168 non-null  object \n",
            " 4   speed_limit            60168 non-null  int64  \n",
            " 5   direction              60168 non-null  object \n",
            " 6   time                   60168 non-null  object \n",
            " 7   vehicle_class_1        60056 non-null  object \n",
            " 8   vehicle_class_2        60056 non-null  float64\n",
            " 9   vehicle_class_3        60056 non-null  float64\n",
            " 10  vehicle_class_4        60056 non-null  float64\n",
            " 11  vehicle_class_5        60056 non-null  float64\n",
            " 12  vehicle_class_6        60056 non-null  float64\n",
            " 13  vehicle_class_7        60056 non-null  float64\n",
            " 14  vehicle_class_8        60056 non-null  float64\n",
            " 15  vehicle_class_9        60056 non-null  float64\n",
            " 16  vehicle_class_10       60056 non-null  float64\n",
            " 17  vehicle_class_11       60056 non-null  float64\n",
            " 18  vehicle_class_12       60056 non-null  float64\n",
            " 19  vehicle_class_13       60056 non-null  float64\n",
            " 20  motorcycle             44912 non-null  float64\n",
            " 21  bike                   44912 non-null  float64\n",
            " 22  Total Vehicles         60168 non-null  int64  \n",
            " 23  average_speed          55160 non-null  float64\n",
            " 24  85th_percentile_speed  55159 non-null  float64\n",
            " 25  maximum_speed          45144 non-null  object \n",
            " 26  road_segment           60168 non-null  int64  \n",
            " 27  road_segment_1         5040 non-null   float64\n",
            " 28  road_segment_2         4032 non-null   float64\n",
            "dtypes: float64(18), int64(3), object(8)\n",
            "memory usage: 13.3+ MB\n"
          ],
          "name": "stdout"
        }
      ]
    },
    {
      "cell_type": "code",
      "metadata": {
        "id": "Q72pVbjAOI27",
        "colab": {
          "base_uri": "https://localhost:8080/",
          "height": 206
        },
        "outputId": "d89a713c-c5f2-4db2-a3a6-924cf757cd09"
      },
      "source": [
        "# get only needed columns\n",
        "traffic = df[['date','road_name','direction','time','Total Vehicles']]\n",
        "traffic.head()"
      ],
      "execution_count": null,
      "outputs": [
        {
          "output_type": "execute_result",
          "data": {
            "text/html": [
              "<div>\n",
              "<style scoped>\n",
              "    .dataframe tbody tr th:only-of-type {\n",
              "        vertical-align: middle;\n",
              "    }\n",
              "\n",
              "    .dataframe tbody tr th {\n",
              "        vertical-align: top;\n",
              "    }\n",
              "\n",
              "    .dataframe thead th {\n",
              "        text-align: right;\n",
              "    }\n",
              "</style>\n",
              "<table border=\"1\" class=\"dataframe\">\n",
              "  <thead>\n",
              "    <tr style=\"text-align: right;\">\n",
              "      <th></th>\n",
              "      <th>date</th>\n",
              "      <th>road_name</th>\n",
              "      <th>direction</th>\n",
              "      <th>time</th>\n",
              "      <th>Total Vehicles</th>\n",
              "    </tr>\n",
              "  </thead>\n",
              "  <tbody>\n",
              "    <tr>\n",
              "      <th>0</th>\n",
              "      <td>03-09-2015</td>\n",
              "      <td>Bayles Street</td>\n",
              "      <td>E</td>\n",
              "      <td>0:00</td>\n",
              "      <td>0</td>\n",
              "    </tr>\n",
              "    <tr>\n",
              "      <th>1</th>\n",
              "      <td>03-09-2015</td>\n",
              "      <td>Bayles Street</td>\n",
              "      <td>E</td>\n",
              "      <td>1:00</td>\n",
              "      <td>0</td>\n",
              "    </tr>\n",
              "    <tr>\n",
              "      <th>2</th>\n",
              "      <td>03-09-2015</td>\n",
              "      <td>Bayles Street</td>\n",
              "      <td>E</td>\n",
              "      <td>2:00</td>\n",
              "      <td>0</td>\n",
              "    </tr>\n",
              "    <tr>\n",
              "      <th>3</th>\n",
              "      <td>03-09-2015</td>\n",
              "      <td>Bayles Street</td>\n",
              "      <td>E</td>\n",
              "      <td>3:00</td>\n",
              "      <td>0</td>\n",
              "    </tr>\n",
              "    <tr>\n",
              "      <th>4</th>\n",
              "      <td>03-09-2015</td>\n",
              "      <td>Bayles Street</td>\n",
              "      <td>E</td>\n",
              "      <td>4:00</td>\n",
              "      <td>2</td>\n",
              "    </tr>\n",
              "  </tbody>\n",
              "</table>\n",
              "</div>"
            ],
            "text/plain": [
              "         date      road_name direction  time  Total Vehicles\n",
              "0  03-09-2015  Bayles Street         E  0:00               0\n",
              "1  03-09-2015  Bayles Street         E  1:00               0\n",
              "2  03-09-2015  Bayles Street         E  2:00               0\n",
              "3  03-09-2015  Bayles Street         E  3:00               0\n",
              "4  03-09-2015  Bayles Street         E  4:00               2"
            ]
          },
          "metadata": {
            "tags": []
          },
          "execution_count": 5
        }
      ]
    },
    {
      "cell_type": "code",
      "metadata": {
        "id": "U5pugx26OI3I",
        "colab": {
          "base_uri": "https://localhost:8080/",
          "height": 206
        },
        "outputId": "600d142a-0fbc-4a72-8e87-c4f9b4ec85d5"
      },
      "source": [
        "#sum all directions\n",
        "traffic = traffic.groupby(['date','road_name','time']).sum().reset_index()\n",
        "traffic.head()"
      ],
      "execution_count": null,
      "outputs": [
        {
          "output_type": "execute_result",
          "data": {
            "text/html": [
              "<div>\n",
              "<style scoped>\n",
              "    .dataframe tbody tr th:only-of-type {\n",
              "        vertical-align: middle;\n",
              "    }\n",
              "\n",
              "    .dataframe tbody tr th {\n",
              "        vertical-align: top;\n",
              "    }\n",
              "\n",
              "    .dataframe thead th {\n",
              "        text-align: right;\n",
              "    }\n",
              "</style>\n",
              "<table border=\"1\" class=\"dataframe\">\n",
              "  <thead>\n",
              "    <tr style=\"text-align: right;\">\n",
              "      <th></th>\n",
              "      <th>date</th>\n",
              "      <th>road_name</th>\n",
              "      <th>time</th>\n",
              "      <th>Total Vehicles</th>\n",
              "    </tr>\n",
              "  </thead>\n",
              "  <tbody>\n",
              "    <tr>\n",
              "      <th>0</th>\n",
              "      <td>01/02/2015</td>\n",
              "      <td>Rathdowne Street</td>\n",
              "      <td>0:00</td>\n",
              "      <td>878</td>\n",
              "    </tr>\n",
              "    <tr>\n",
              "      <th>1</th>\n",
              "      <td>01/02/2015</td>\n",
              "      <td>Rathdowne Street</td>\n",
              "      <td>10:00</td>\n",
              "      <td>1269</td>\n",
              "    </tr>\n",
              "    <tr>\n",
              "      <th>2</th>\n",
              "      <td>01/02/2015</td>\n",
              "      <td>Rathdowne Street</td>\n",
              "      <td>11:00</td>\n",
              "      <td>1452</td>\n",
              "    </tr>\n",
              "    <tr>\n",
              "      <th>3</th>\n",
              "      <td>01/02/2015</td>\n",
              "      <td>Rathdowne Street</td>\n",
              "      <td>12:00</td>\n",
              "      <td>1676</td>\n",
              "    </tr>\n",
              "    <tr>\n",
              "      <th>4</th>\n",
              "      <td>01/02/2015</td>\n",
              "      <td>Rathdowne Street</td>\n",
              "      <td>13:00</td>\n",
              "      <td>1787</td>\n",
              "    </tr>\n",
              "  </tbody>\n",
              "</table>\n",
              "</div>"
            ],
            "text/plain": [
              "          date         road_name   time  Total Vehicles\n",
              "0   01/02/2015  Rathdowne Street   0:00             878\n",
              "1   01/02/2015  Rathdowne Street  10:00            1269\n",
              "2   01/02/2015  Rathdowne Street  11:00            1452\n",
              "3   01/02/2015  Rathdowne Street  12:00            1676\n",
              "4   01/02/2015  Rathdowne Street  13:00            1787"
            ]
          },
          "metadata": {
            "tags": []
          },
          "execution_count": 6
        }
      ]
    },
    {
      "cell_type": "code",
      "metadata": {
        "id": "N_pq1U_1OI3X",
        "colab": {
          "base_uri": "https://localhost:8080/",
          "height": 35
        },
        "outputId": "2685b34e-c41b-4c46-85a7-cd9d43d086ff"
      },
      "source": [
        "#number of unique roads\n",
        "len(traffic.road_name.unique())"
      ],
      "execution_count": null,
      "outputs": [
        {
          "output_type": "execute_result",
          "data": {
            "text/plain": [
              "111"
            ]
          },
          "metadata": {
            "tags": []
          },
          "execution_count": 7
        }
      ]
    },
    {
      "cell_type": "code",
      "metadata": {
        "id": "GMnAnufJOI3k",
        "colab": {
          "base_uri": "https://localhost:8080/",
          "height": 299
        },
        "outputId": "a5125292-700a-4c44-bbc6-673a5fda540c"
      },
      "source": [
        "#number of days in each road\n",
        "day_counts = traffic.groupby(['road_name'])['date'].nunique()\n",
        "sns.countplot(day_counts)"
      ],
      "execution_count": null,
      "outputs": [
        {
          "output_type": "execute_result",
          "data": {
            "text/plain": [
              "<matplotlib.axes._subplots.AxesSubplot at 0x7f62faeaada0>"
            ]
          },
          "metadata": {
            "tags": []
          },
          "execution_count": 8
        },
        {
          "output_type": "display_data",
          "data": {
            "image/png": "[encoded data removed]",
            "text/plain": [
              "<Figure size 432x288 with 1 Axes>"
            ]
          },
          "metadata": {
            "tags": [],
            "needs_background": "light"
          }
        }
      ]
    },
    {
      "cell_type": "code",
      "metadata": {
        "id": "SJUAVH6aOI3v",
        "colab": {
          "base_uri": "https://localhost:8080/",
          "height": 35
        },
        "outputId": "044553d4-b03d-4500-bd69-e888caf43846"
      },
      "source": [
        "#hours in each day\n",
        "hour_count = traffic.groupby(['road_name','date'])['time'].nunique()\n",
        "(hour_count == 24).all()\n",
        "#looks like there is no missing hours"
      ],
      "execution_count": null,
      "outputs": [
        {
          "output_type": "execute_result",
          "data": {
            "text/plain": [
              "True"
            ]
          },
          "metadata": {
            "tags": []
          },
          "execution_count": 9
        }
      ]
    },
    {
      "cell_type": "code",
      "metadata": {
        "id": "zOMD_n_oOI36",
        "colab": {
          "base_uri": "https://localhost:8080/",
          "height": 109
        },
        "outputId": "12481709-ee50-4166-d10e-47663aa75e34"
      },
      "source": [
        "#insure no duplicates\n",
        "(traffic.groupby(['road_name','date','time']).nunique() == 1).all()"
      ],
      "execution_count": null,
      "outputs": [
        {
          "output_type": "execute_result",
          "data": {
            "text/plain": [
              "date              True\n",
              "road_name         True\n",
              "time              True\n",
              "Total Vehicles    True\n",
              "dtype: bool"
            ]
          },
          "metadata": {
            "tags": []
          },
          "execution_count": 10
        }
      ]
    },
    {
      "cell_type": "code",
      "metadata": {
        "id": "f0q2o1xtOI4F"
      },
      "source": [],
      "execution_count": null,
      "outputs": []
    },
    {
      "cell_type": "code",
      "metadata": {
        "id": "uWYwQwLQOI4Q",
        "colab": {
          "base_uri": "https://localhost:8080/",
          "height": 206
        },
        "outputId": "7a0aded6-dc2c-4e73-d689-2c037f0b4b00"
      },
      "source": [
        "#create time stamp\n",
        "traffic['timestamp'] = pd.to_datetime(traffic['date'] + ' ' + traffic['time'])\n",
        "traffic=traffic[['road_name','timestamp','Total Vehicles']].sort_values(['road_name','timestamp'])\n",
        "traffic.head()"
      ],
      "execution_count": null,
      "outputs": [
        {
          "output_type": "execute_result",
          "data": {
            "text/html": [
              "<div>\n",
              "<style scoped>\n",
              "    .dataframe tbody tr th:only-of-type {\n",
              "        vertical-align: middle;\n",
              "    }\n",
              "\n",
              "    .dataframe tbody tr th {\n",
              "        vertical-align: top;\n",
              "    }\n",
              "\n",
              "    .dataframe thead th {\n",
              "        text-align: right;\n",
              "    }\n",
              "</style>\n",
              "<table border=\"1\" class=\"dataframe\">\n",
              "  <thead>\n",
              "    <tr style=\"text-align: right;\">\n",
              "      <th></th>\n",
              "      <th>road_name</th>\n",
              "      <th>timestamp</th>\n",
              "      <th>Total Vehicles</th>\n",
              "    </tr>\n",
              "  </thead>\n",
              "  <tbody>\n",
              "    <tr>\n",
              "      <th>19392</th>\n",
              "      <td>Abbotsford Street</td>\n",
              "      <td>2015-08-21 00:00:00</td>\n",
              "      <td>16</td>\n",
              "    </tr>\n",
              "    <tr>\n",
              "      <th>19403</th>\n",
              "      <td>Abbotsford Street</td>\n",
              "      <td>2015-08-21 01:00:00</td>\n",
              "      <td>28</td>\n",
              "    </tr>\n",
              "    <tr>\n",
              "      <th>19408</th>\n",
              "      <td>Abbotsford Street</td>\n",
              "      <td>2015-08-21 02:00:00</td>\n",
              "      <td>11</td>\n",
              "    </tr>\n",
              "    <tr>\n",
              "      <th>19409</th>\n",
              "      <td>Abbotsford Street</td>\n",
              "      <td>2015-08-21 03:00:00</td>\n",
              "      <td>14</td>\n",
              "    </tr>\n",
              "    <tr>\n",
              "      <th>19410</th>\n",
              "      <td>Abbotsford Street</td>\n",
              "      <td>2015-08-21 04:00:00</td>\n",
              "      <td>33</td>\n",
              "    </tr>\n",
              "  </tbody>\n",
              "</table>\n",
              "</div>"
            ],
            "text/plain": [
              "               road_name           timestamp  Total Vehicles\n",
              "19392  Abbotsford Street 2015-08-21 00:00:00              16\n",
              "19403  Abbotsford Street 2015-08-21 01:00:00              28\n",
              "19408  Abbotsford Street 2015-08-21 02:00:00              11\n",
              "19409  Abbotsford Street 2015-08-21 03:00:00              14\n",
              "19410  Abbotsford Street 2015-08-21 04:00:00              33"
            ]
          },
          "metadata": {
            "tags": []
          },
          "execution_count": 11
        }
      ]
    },
    {
      "cell_type": "markdown",
      "metadata": {
        "id": "PT-XSEcHOI4d"
      },
      "source": [
        "# ARIMA implementation"
      ]
    },
    {
      "cell_type": "code",
      "metadata": {
        "id": "7SzaGw5ZOI4g"
      },
      "source": [
        "from pmdarima.arima import auto_arima"
      ],
      "execution_count": null,
      "outputs": []
    },
    {
      "cell_type": "code",
      "metadata": {
        "id": "tZQfSoZLOI4u"
      },
      "source": [
        "road = traffic[traffic.road_name == 'Abbotsford Street'].reset_index()\n",
        "train = road.iloc[:int(0.7*len(road))]['Total Vehicles']\n",
        "valid = road.iloc[int(0.7*len(road)):]['Total Vehicles']"
      ],
      "execution_count": null,
      "outputs": []
    },
    {
      "cell_type": "code",
      "metadata": {
        "id": "aukmrTyQOI45",
        "colab": {
          "base_uri": "https://localhost:8080/",
          "height": 632
        },
        "outputId": "c3cee8c2-a80f-4fdc-e6d2-78861c78b59e"
      },
      "source": [
        "model = auto_arima(train, start_p=1, start_q=1,\n",
        "                           max_p=3, max_q=3, m=24,\n",
        "                           start_P=0, seasonal=True,\n",
        "                           d=1, D=1, trace=True,\n",
        "                           error_action='ignore',\n",
        "                           suppress_warnings=True,\n",
        "                           stepwise=True)\n",
        "model.fit(train)\n",
        "\n",
        "forecast = model.predict(n_periods=len(valid))\n",
        "forecast = pd.DataFrame(forecast,index = valid.index,columns=['Prediction'])\n",
        "\n",
        "#plot the predictions for validation set\n",
        "plt.plot(train, label='Train')\n",
        "plt.plot(valid, label='Valid')\n",
        "plt.plot(forecast, label='Prediction')\n",
        "plt.legend()\n",
        "plt.show()"
      ],
      "execution_count": null,
      "outputs": [
        {
          "output_type": "stream",
          "text": [
            "Performing stepwise search to minimize aic\n",
            " ARIMA(1,1,1)(0,1,1)[24]             : AIC=1027.143, Time=3.10 sec\n",
            " ARIMA(0,1,0)(0,1,0)[24]             : AIC=1036.771, Time=0.06 sec\n",
            " ARIMA(1,1,0)(1,1,0)[24]             : AIC=1035.177, Time=0.95 sec\n",
            " ARIMA(0,1,1)(0,1,1)[24]             : AIC=1025.285, Time=2.53 sec\n",
            " ARIMA(0,1,1)(0,1,0)[24]             : AIC=1038.769, Time=0.17 sec\n",
            " ARIMA(0,1,1)(1,1,1)[24]             : AIC=inf, Time=5.24 sec\n",
            " ARIMA(0,1,1)(0,1,2)[24]             : AIC=inf, Time=9.50 sec\n",
            " ARIMA(0,1,1)(1,1,0)[24]             : AIC=1035.149, Time=0.94 sec\n",
            " ARIMA(0,1,1)(1,1,2)[24]             : AIC=inf, Time=12.29 sec\n",
            " ARIMA(0,1,0)(0,1,1)[24]             : AIC=1023.347, Time=2.16 sec\n",
            " ARIMA(0,1,0)(1,1,1)[24]             : AIC=inf, Time=1.55 sec\n",
            " ARIMA(0,1,0)(0,1,2)[24]             : AIC=inf, Time=6.01 sec\n",
            " ARIMA(0,1,0)(1,1,0)[24]             : AIC=1033.419, Time=0.57 sec\n",
            " ARIMA(0,1,0)(1,1,2)[24]             : AIC=inf, Time=7.14 sec\n",
            " ARIMA(1,1,0)(0,1,1)[24]             : AIC=1025.292, Time=1.79 sec\n",
            " ARIMA(0,1,0)(0,1,1)[24] intercept   : AIC=1025.346, Time=1.65 sec\n",
            "\n",
            "Best model:  ARIMA(0,1,0)(0,1,1)[24]          \n",
            "Total fit time: 55.682 seconds\n"
          ],
          "name": "stdout"
        },
        {
          "output_type": "display_data",
          "data": {
            "image/png": "[encoded data removed]",
            "text/plain": [
              "<Figure size 432x288 with 1 Axes>"
            ]
          },
          "metadata": {
            "tags": [],
            "needs_background": "light"
          }
        }
      ]
    },
    {
      "cell_type": "code",
      "metadata": {
        "id": "_4NXmQRNOI5E"
      },
      "source": [],
      "execution_count": null,
      "outputs": []
    },
    {
      "cell_type": "code",
      "metadata": {
        "id": "zD5mtGZrOI5P"
      },
      "source": [],
      "execution_count": null,
      "outputs": []
    },
    {
      "cell_type": "code",
      "metadata": {
        "id": "lvKM_ozqOI5Z"
      },
      "source": [],
      "execution_count": null,
      "outputs": []
    }
  ]
}
