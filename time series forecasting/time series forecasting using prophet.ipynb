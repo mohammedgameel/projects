{
  "nbformat": 4,
  "nbformat_minor": 0,
  "metadata": {
    "colab": {
      "provenance": []
    },
    "kernelspec": {
      "name": "python3",
      "display_name": "Python 3"
    }
  },
  "cells": [
    {
      "cell_type": "code",
      "metadata": {
        "id": "vB-DIgKnZz3X",
        "colab": {
          "base_uri": "https://localhost:8080/",
          "height": 71
        },
        "outputId": "2f0f90eb-78f7-4c17-e5b6-41cee69a351d"
      },
      "source": [
        "import numpy as np # linear algebra\n",
        "import pandas as pd # data processing, CSV file I/O (e.g. pd.read_csv)\n",
        "import matplotlib.pyplot as plt\n",
        "import seaborn as sns\n",
        "from sklearn.metrics import r2_score\n",
        "from sklearn.metrics import mean_absolute_error"
      ],
      "execution_count": null,
      "outputs": [
        {
          "output_type": "stream",
          "text": [
            "/usr/local/lib/python3.6/dist-packages/statsmodels/tools/_testing.py:19: FutureWarning: pandas.util.testing is deprecated. Use the functions in the public API at pandas.testing instead.\n",
            "  import pandas.util.testing as tm\n"
          ],
          "name": "stderr"
        }
      ]
    },
    {
      "cell_type": "code",
      "metadata": {
        "id": "8-YT__WXZz0W"
      },
      "source": [
        "traffic = pd.read_csv(\"/content/drive/My Drive/traffic forecast/holt_results.csv\")"
      ],
      "execution_count": null,
      "outputs": []
    },
    {
      "cell_type": "code",
      "metadata": {
        "id": "28GCcK5kaBQf"
      },
      "source": [
        "from fbprophet import Prophet"
      ],
      "execution_count": null,
      "outputs": []
    },
    {
      "cell_type": "code",
      "metadata": {
        "id": "PpWAciYlakm8",
        "colab": {
          "base_uri": "https://localhost:8080/",
          "height": 204
        },
        "outputId": "952ac07c-58eb-442d-9192-b6cba1db3343"
      },
      "source": [
        "traffic.head()"
      ],
      "execution_count": null,
      "outputs": [
        {
          "output_type": "execute_result",
          "data": {
            "text/html": [
              "<div>\n",
              "<style scoped>\n",
              "    .dataframe tbody tr th:only-of-type {\n",
              "        vertical-align: middle;\n",
              "    }\n",
              "\n",
              "    .dataframe tbody tr th {\n",
              "        vertical-align: top;\n",
              "    }\n",
              "\n",
              "    .dataframe thead th {\n",
              "        text-align: right;\n",
              "    }\n",
              "</style>\n",
              "<table border=\"1\" class=\"dataframe\">\n",
              "  <thead>\n",
              "    <tr style=\"text-align: right;\">\n",
              "      <th></th>\n",
              "      <th>Unnamed: 0</th>\n",
              "      <th>index</th>\n",
              "      <th>road_name</th>\n",
              "      <th>timestamp</th>\n",
              "      <th>Total Vehicles</th>\n",
              "      <th>arima Prediction</th>\n",
              "      <th>holt Prediction</th>\n",
              "    </tr>\n",
              "  </thead>\n",
              "  <tbody>\n",
              "    <tr>\n",
              "      <th>0</th>\n",
              "      <td>0</td>\n",
              "      <td>0</td>\n",
              "      <td>Abbotsford Street</td>\n",
              "      <td>2015-08-21 00:00:00</td>\n",
              "      <td>16</td>\n",
              "      <td>NaN</td>\n",
              "      <td>NaN</td>\n",
              "    </tr>\n",
              "    <tr>\n",
              "      <th>1</th>\n",
              "      <td>1</td>\n",
              "      <td>1</td>\n",
              "      <td>Abbotsford Street</td>\n",
              "      <td>2015-08-21 01:00:00</td>\n",
              "      <td>28</td>\n",
              "      <td>NaN</td>\n",
              "      <td>NaN</td>\n",
              "    </tr>\n",
              "    <tr>\n",
              "      <th>2</th>\n",
              "      <td>2</td>\n",
              "      <td>2</td>\n",
              "      <td>Abbotsford Street</td>\n",
              "      <td>2015-08-21 02:00:00</td>\n",
              "      <td>11</td>\n",
              "      <td>NaN</td>\n",
              "      <td>NaN</td>\n",
              "    </tr>\n",
              "    <tr>\n",
              "      <th>3</th>\n",
              "      <td>3</td>\n",
              "      <td>3</td>\n",
              "      <td>Abbotsford Street</td>\n",
              "      <td>2015-08-21 03:00:00</td>\n",
              "      <td>14</td>\n",
              "      <td>NaN</td>\n",
              "      <td>NaN</td>\n",
              "    </tr>\n",
              "    <tr>\n",
              "      <th>4</th>\n",
              "      <td>4</td>\n",
              "      <td>4</td>\n",
              "      <td>Abbotsford Street</td>\n",
              "      <td>2015-08-21 04:00:00</td>\n",
              "      <td>33</td>\n",
              "      <td>NaN</td>\n",
              "      <td>NaN</td>\n",
              "    </tr>\n",
              "  </tbody>\n",
              "</table>\n",
              "</div>"
            ],
            "text/plain": [
              "   Unnamed: 0  index  ... arima Prediction holt Prediction\n",
              "0           0      0  ...              NaN             NaN\n",
              "1           1      1  ...              NaN             NaN\n",
              "2           2      2  ...              NaN             NaN\n",
              "3           3      3  ...              NaN             NaN\n",
              "4           4      4  ...              NaN             NaN\n",
              "\n",
              "[5 rows x 7 columns]"
            ]
          },
          "metadata": {
            "tags": []
          },
          "execution_count": 4
        }
      ]
    },
    {
      "cell_type": "code",
      "metadata": {
        "id": "dFLnYUS0akDh",
        "colab": {
          "base_uri": "https://localhost:8080/",
          "height": 34
        },
        "outputId": "ecbf644d-f8b1-4335-94b2-228d945742f4"
      },
      "source": [
        "% cd /content/drive/My Drive/traffic forecast"
      ],
      "execution_count": null,
      "outputs": [
        {
          "output_type": "stream",
          "text": [
            "/content/drive/My Drive/traffic forecast\n"
          ],
          "name": "stdout"
        }
      ]
    },
    {
      "cell_type": "code",
      "metadata": {
        "id": "Y8UvXMtrZzx7"
      },
      "source": [
        "prophet_results = pd.DataFrame()\n",
        "n=0\n",
        "for  roadname in traffic.road_name.unique():\n",
        "    road = traffic[traffic.road_name == roadname].reset_index()\n",
        "    train = road.iloc[:int(0.7*len(road))][['timestamp','Total Vehicles']]\n",
        "    valid = road.iloc[int(0.7*len(road)):][['timestamp','Total Vehicles']]\n",
        "    train.columns = ['ds','y']\n",
        "    valid.columns = ['ds','y']\n",
        "    model = Prophet()\n",
        "    model.fit(train)\n",
        "\n",
        "    forecast = model.predict(valid)['yhat']\n",
        "    forecast = pd.DataFrame(forecast.values,index = valid.index,columns=['prophet Prediction'])\n",
        "    prophet_results =  prophet_results.append( road.merge(forecast,how='left',left_index= True , right_index= True))\n",
        "    prophet_results.to_csv(\"prophet_results.csv\")\n",
        "    n = n+1\n",
        "    print(str(n) + \" of \" + str(len(traffic.road_name.unique())) + str(roadname))"
      ],
      "execution_count": null,
      "outputs": []
    },
    {
      "cell_type": "code",
      "metadata": {
        "id": "ToD-iW7rZzo7"
      },
      "source": [
        "traffic = pd.read_csv(\"prophet_results.csv\")"
      ],
      "execution_count": null,
      "outputs": []
    },
    {
      "cell_type": "code",
      "metadata": {
        "id": "jSjb_aemZzm9"
      },
      "source": [
        "test = traffic[~traffic['prophet Prediction'].isna()]"
      ],
      "execution_count": null,
      "outputs": []
    },
    {
      "cell_type": "code",
      "metadata": {
        "id": "OYzO8quLZzie",
        "colab": {
          "base_uri": "https://localhost:8080/",
          "height": 306
        },
        "outputId": "97daba45-65e3-40ed-aa25-c03fbbfdf169"
      },
      "source": [
        "test.head()"
      ],
      "execution_count": null,
      "outputs": [
        {
          "output_type": "execute_result",
          "data": {
            "text/html": [
              "<div>\n",
              "<style scoped>\n",
              "    .dataframe tbody tr th:only-of-type {\n",
              "        vertical-align: middle;\n",
              "    }\n",
              "\n",
              "    .dataframe tbody tr th {\n",
              "        vertical-align: top;\n",
              "    }\n",
              "\n",
              "    .dataframe thead th {\n",
              "        text-align: right;\n",
              "    }\n",
              "</style>\n",
              "<table border=\"1\" class=\"dataframe\">\n",
              "  <thead>\n",
              "    <tr style=\"text-align: right;\">\n",
              "      <th></th>\n",
              "      <th>Unnamed: 0</th>\n",
              "      <th>level_0</th>\n",
              "      <th>Unnamed: 0.1</th>\n",
              "      <th>index</th>\n",
              "      <th>road_name</th>\n",
              "      <th>timestamp</th>\n",
              "      <th>Total Vehicles</th>\n",
              "      <th>arima Prediction</th>\n",
              "      <th>holt Prediction</th>\n",
              "      <th>prophet Prediction</th>\n",
              "    </tr>\n",
              "  </thead>\n",
              "  <tbody>\n",
              "    <tr>\n",
              "      <th>117</th>\n",
              "      <td>117</td>\n",
              "      <td>117</td>\n",
              "      <td>117</td>\n",
              "      <td>117</td>\n",
              "      <td>Abbotsford Street</td>\n",
              "      <td>2015-08-25 21:00:00</td>\n",
              "      <td>120</td>\n",
              "      <td>98.434844</td>\n",
              "      <td>83.893651</td>\n",
              "      <td>124.139308</td>\n",
              "    </tr>\n",
              "    <tr>\n",
              "      <th>118</th>\n",
              "      <td>118</td>\n",
              "      <td>118</td>\n",
              "      <td>118</td>\n",
              "      <td>118</td>\n",
              "      <td>Abbotsford Street</td>\n",
              "      <td>2015-08-25 22:00:00</td>\n",
              "      <td>65</td>\n",
              "      <td>112.705683</td>\n",
              "      <td>104.128198</td>\n",
              "      <td>119.717105</td>\n",
              "    </tr>\n",
              "    <tr>\n",
              "      <th>119</th>\n",
              "      <td>119</td>\n",
              "      <td>119</td>\n",
              "      <td>119</td>\n",
              "      <td>119</td>\n",
              "      <td>Abbotsford Street</td>\n",
              "      <td>2015-08-25 23:00:00</td>\n",
              "      <td>42</td>\n",
              "      <td>79.654384</td>\n",
              "      <td>61.596761</td>\n",
              "      <td>120.696612</td>\n",
              "    </tr>\n",
              "    <tr>\n",
              "      <th>120</th>\n",
              "      <td>120</td>\n",
              "      <td>120</td>\n",
              "      <td>120</td>\n",
              "      <td>120</td>\n",
              "      <td>Abbotsford Street</td>\n",
              "      <td>2015-08-26 00:00:00</td>\n",
              "      <td>30</td>\n",
              "      <td>56.328629</td>\n",
              "      <td>23.806142</td>\n",
              "      <td>109.136203</td>\n",
              "    </tr>\n",
              "    <tr>\n",
              "      <th>121</th>\n",
              "      <td>121</td>\n",
              "      <td>121</td>\n",
              "      <td>121</td>\n",
              "      <td>121</td>\n",
              "      <td>Abbotsford Street</td>\n",
              "      <td>2015-08-26 01:00:00</td>\n",
              "      <td>12</td>\n",
              "      <td>47.979243</td>\n",
              "      <td>2.053875</td>\n",
              "      <td>83.429065</td>\n",
              "    </tr>\n",
              "  </tbody>\n",
              "</table>\n",
              "</div>"
            ],
            "text/plain": [
              "     Unnamed: 0  level_0  ...  holt Prediction  prophet Prediction\n",
              "117         117      117  ...        83.893651          124.139308\n",
              "118         118      118  ...       104.128198          119.717105\n",
              "119         119      119  ...        61.596761          120.696612\n",
              "120         120      120  ...        23.806142          109.136203\n",
              "121         121      121  ...         2.053875           83.429065\n",
              "\n",
              "[5 rows x 10 columns]"
            ]
          },
          "metadata": {
            "tags": []
          },
          "execution_count": 14
        }
      ]
    },
    {
      "cell_type": "code",
      "metadata": {
        "id": "ajGW36e2xy-J",
        "colab": {
          "base_uri": "https://localhost:8080/",
          "height": 34
        },
        "outputId": "78885476-93a1-4644-81af-289bbecaa96a"
      },
      "source": [
        "mean_absolute_error (test['Total Vehicles'],test['prophet Prediction']),r2_score(test['Total Vehicles'],test['prophet Prediction'])"
      ],
      "execution_count": null,
      "outputs": [
        {
          "output_type": "execute_result",
          "data": {
            "text/plain": [
              "(137.16139787376534, 0.5756545756054869)"
            ]
          },
          "metadata": {
            "tags": []
          },
          "execution_count": 16
        }
      ]
    },
    {
      "cell_type": "code",
      "metadata": {
        "id": "yJOt-E78xzEN"
      },
      "source": [],
      "execution_count": null,
      "outputs": []
    },
    {
      "cell_type": "code",
      "metadata": {
        "id": "2E2_-eoExzHo"
      },
      "source": [],
      "execution_count": null,
      "outputs": []
    },
    {
      "cell_type": "code",
      "metadata": {
        "id": "-OeIM9-IxzBS"
      },
      "source": [],
      "execution_count": null,
      "outputs": []
    }
  ]
}